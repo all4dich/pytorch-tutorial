{
 "cells": [
  {
   "cell_type": "code",
   "execution_count": 1,
   "metadata": {
    "collapsed": true,
    "ExecuteTime": {
     "end_time": "2023-08-01T07:13:01.166145Z",
     "start_time": "2023-08-01T07:12:58.178541Z"
    }
   },
   "outputs": [
    {
     "name": "stdout",
     "output_type": "stream",
     "text": [
      "Training set has 60000 instances\n",
      "Validation set has 10000 instances\n"
     ]
    }
   ],
   "source": [
    "import torch\n",
    "import torchvision\n",
    "import torchvision.transforms as transforms\n",
    "\n",
    "from torch.utils.tensorboard import SummaryWriter\n",
    "from datetime import datetime\n",
    "\n",
    "transform = transforms.Compose(\n",
    "    [transforms.ToTensor(),\n",
    "     transforms.Normalize((0.5,), (0.5,))]\n",
    ")\n",
    "\n",
    "training_set = torchvision.datasets.FashionMNIST('./data', train=True, transform=transform, download=True)\n",
    "validation_set = torchvision.datasets.FashionMNIST('./data', train=False, transform=transform, download=True)\n",
    "\n",
    "training_loader = torch.utils.data.DataLoader(training_set, batch_size=4, shuffle=True)\n",
    "validation_loader = torch.utils.data.DataLoader(validation_set, batch_size=4, shuffle=True)\n",
    "\n",
    "# Class labels\n",
    "classes = ('T-shirt/top', 'Trouser', 'Pullover', 'Dress', 'Coat',\n",
    "        'Sandal', 'Shirt', 'Sneaker', 'Bag', 'Ankle Boot')\n",
    "\n",
    "# Report split sizes\n",
    "print('Training set has {} instances'.format(len(training_set)))\n",
    "print('Validation set has {} instances'.format(len(validation_set)))"
   ]
  },
  {
   "cell_type": "code",
   "execution_count": 2,
   "outputs": [
    {
     "name": "stdout",
     "output_type": "stream",
     "text": [
      "T-shirt/top  T-shirt/top  Sneaker  Dress\n"
     ]
    },
    {
     "data": {
      "text/plain": "<Figure size 640x480 with 1 Axes>",
      "image/png": "[encoded data removed]"
     },
     "metadata": {},
     "output_type": "display_data"
    }
   ],
   "source": [
    "import matplotlib.pyplot as plt\n",
    "import numpy as np\n",
    "\n",
    "def matplotlib_imshow(img, one_channel=False):\n",
    "    if one_channel:\n",
    "        img = img.mean(dim=0)\n",
    "    img = img / 2 + 0.5\n",
    "    npimg = img.numpy()\n",
    "    if one_channel:\n",
    "        plt.imshow(npimg, cmap=\"Greys\")\n",
    "    else:\n",
    "        plt.imshow(np.transpose(npimg, (1, 2, 0)))\n",
    "\n",
    "dataiter = iter(training_loader)\n",
    "images, labels = next(dataiter)\n",
    "\n",
    "# Create a grid from the images and show them\n",
    "img_grid = torchvision.utils.make_grid(images)\n",
    "matplotlib_imshow(img_grid, one_channel=True)\n",
    "print('  '.join(classes[labels[j]] for j in range(4)))\n"
   ],
   "metadata": {
    "collapsed": false,
    "ExecuteTime": {
     "end_time": "2023-08-01T07:15:46.422628Z",
     "start_time": "2023-08-01T07:15:45.571834Z"
    }
   }
  },
  {
   "cell_type": "code",
   "execution_count": 3,
   "outputs": [],
   "source": [
    "import torch.nn as nn\n",
    "import torch.nn.functional as F\n",
    "\n",
    "# PyTorch models inherit from torch.nn.Module\n",
    "class GarmentClassifier(nn.Module):\n",
    "    def __init__(self):\n",
    "        super(GarmentClassifier, self).__init__()\n",
    "        self.conv1 = nn.Conv2d(1, 6, 5)\n",
    "        self.pool = nn.MaxPool2d(2, 2)\n",
    "        self.conv2 = nn.Conv2d(6, 16, 5)\n",
    "        self.fc1 = nn.Linear(16 * 4 * 4, 120)\n",
    "        self.fc2 = nn.Linear(120, 84)\n",
    "        self.fc3 = nn.Linear(84, 10)\n",
    "\n",
    "    def forward(self, x):\n",
    "        x = self.pool(F.relu(self.conv1(x)))\n",
    "        x = self.pool(F.relu(self.conv2(x)))\n",
    "        x = x.view(-1, 16 * 4 * 4)\n",
    "        x = F.relu(self.fc1(x))\n",
    "        x = F.relu(self.fc2(x))\n",
    "        x = self.fc3(x)\n",
    "        return x\n",
    "\n",
    "\n",
    "model = GarmentClassifier()"
   ],
   "metadata": {
    "collapsed": false,
    "ExecuteTime": {
     "end_time": "2023-08-01T07:22:13.900358Z",
     "start_time": "2023-08-01T07:22:13.890187Z"
    }
   }
  },
  {
   "cell_type": "code",
   "execution_count": 4,
   "outputs": [
    {
     "name": "stdout",
     "output_type": "stream",
     "text": [
      "tensor([[0.4742, 0.1369, 0.4131, 0.9271, 0.4687, 0.6643, 0.1599, 0.4878, 0.7488,\n",
      "         0.2144],\n",
      "        [0.3068, 0.1854, 0.3482, 0.7940, 0.2544, 0.0216, 0.6957, 0.9444, 0.7480,\n",
      "         0.3259],\n",
      "        [0.0580, 0.6257, 0.5119, 0.0250, 0.8717, 0.2832, 0.2128, 0.5402, 0.4797,\n",
      "         0.3014],\n",
      "        [0.3334, 0.4202, 0.6493, 0.6879, 0.3004, 0.6691, 0.5972, 0.0921, 0.2706,\n",
      "         0.2597]])\n",
      "tensor([1, 5, 3, 7])\n",
      "Total loss for this batch: 2.702655792236328\n"
     ]
    }
   ],
   "source": [
    "loss_fn = torch.nn.CrossEntropyLoss()\n",
    "\n",
    "# NB: Loss functions expect data in batches, so we're creating batches of 4\n",
    "# Represents the model's confidence in each of the 10 classes for a given input\n",
    "dummy_outputs = torch.rand(4, 10)\n",
    "# Represents the correct class among the 10 being tested\n",
    "dummy_labels = torch.tensor([1, 5, 3, 7])\n",
    "\n",
    "print(dummy_outputs)\n",
    "print(dummy_labels)\n",
    "\n",
    "loss = loss_fn(dummy_outputs, dummy_labels)\n",
    "print('Total loss for this batch: {}'.format(loss.item()))"
   ],
   "metadata": {
    "collapsed": false,
    "ExecuteTime": {
     "end_time": "2023-08-01T07:22:36.964388Z",
     "start_time": "2023-08-01T07:22:36.947764Z"
    }
   }
  },
  {
   "cell_type": "code",
   "execution_count": 7,
   "outputs": [
    {
     "data": {
      "text/plain": "torch.Size([4])"
     },
     "execution_count": 7,
     "metadata": {},
     "output_type": "execute_result"
    }
   ],
   "source": [
    "dummy_labels.size()"
   ],
   "metadata": {
    "collapsed": false,
    "ExecuteTime": {
     "end_time": "2023-08-01T07:37:15.689557Z",
     "start_time": "2023-08-01T07:37:15.672715Z"
    }
   }
  },
  {
   "cell_type": "code",
   "execution_count": 9,
   "outputs": [],
   "source": [
    "# Optimizers specified in the torch.optim package\n",
    "optimizer = torch.optim.SGD(model.parameters(), lr=0.001, momentum=0.9)"
   ],
   "metadata": {
    "collapsed": false,
    "ExecuteTime": {
     "end_time": "2023-08-01T07:56:42.050582Z",
     "start_time": "2023-08-01T07:56:42.044742Z"
    }
   }
  },
  {
   "cell_type": "code",
   "execution_count": 10,
   "outputs": [],
   "source": [
    "def train_one_epoch(epoch_index, tb_writer):\n",
    "    running_loss = 0.\n",
    "    last_loss = 0.\n",
    "\n",
    "    # Here, we use enumerate(training_loader) instead of\n",
    "    # iter(training_loader) so that we can track the batch\n",
    "    # index and do some intra-epoch reporting\n",
    "    for i, data in enumerate(training_loader):\n",
    "        # Every data instance is an input + label pair\n",
    "        inputs, labels = data\n",
    "\n",
    "        # Zero your gradients for every batch!\n",
    "        optimizer.zero_grad()\n",
    "\n",
    "        # Make predictions for this batch\n",
    "        outputs = model(inputs)\n",
    "\n",
    "        # Compute the loss and its gradients\n",
    "        loss = loss_fn(outputs, labels)\n",
    "        loss.backward()\n",
    "\n",
    "        # Adjust learning weights\n",
    "        optimizer.step()\n",
    "\n",
    "        # Gather data and report\n",
    "        running_loss += loss.item()\n",
    "        if i % 1000 == 999:\n",
    "            last_loss = running_loss / 1000 # loss per batch\n",
    "            print('  batch {} loss: {}'.format(i + 1, last_loss))\n",
    "            tb_x = epoch_index * len(training_loader) + i + 1\n",
    "            tb_writer.add_scalar('Loss/train', last_loss, tb_x)\n",
    "            running_loss = 0.\n",
    "\n",
    "    return last_loss"
   ],
   "metadata": {
    "collapsed": false,
    "ExecuteTime": {
     "end_time": "2023-08-01T07:56:44.887560Z",
     "start_time": "2023-08-01T07:56:44.884026Z"
    }
   }
  },
  {
   "cell_type": "code",
   "execution_count": 11,
   "outputs": [
    {
     "name": "stdout",
     "output_type": "stream",
     "text": [
      "EPOCH 1:\n",
      "  batch 1000 loss: 1.8731963924765587\n",
      "  batch 2000 loss: 0.8793741011433304\n",
      "  batch 3000 loss: 0.7451804595831781\n",
      "  batch 4000 loss: 0.6843764821682126\n",
      "  batch 5000 loss: 0.6158571792137809\n",
      "  batch 6000 loss: 0.5904830325900111\n",
      "  batch 7000 loss: 0.5522414886669721\n",
      "  batch 8000 loss: 0.5374252503786702\n",
      "  batch 9000 loss: 0.526074154210859\n",
      "  batch 10000 loss: 0.4921687937560491\n",
      "  batch 11000 loss: 0.46801200476533267\n",
      "  batch 12000 loss: 0.4584750946051208\n",
      "  batch 13000 loss: 0.4372786838645116\n",
      "  batch 14000 loss: 0.4309826119132922\n",
      "  batch 15000 loss: 0.4041162303240271\n",
      "LOSS train 0.4041162303240271 valid 0.4261987805366516\n",
      "EPOCH 2:\n",
      "  batch 1000 loss: 0.38655337145505475\n",
      "  batch 2000 loss: 0.40989012912729234\n",
      "  batch 3000 loss: 0.3912595315951912\n",
      "  batch 4000 loss: 0.3887749727809569\n",
      "  batch 5000 loss: 0.40446680839476173\n",
      "  batch 6000 loss: 0.39400565720432495\n",
      "  batch 7000 loss: 0.3812233217082685\n",
      "  batch 8000 loss: 0.36510691079485696\n",
      "  batch 9000 loss: 0.38641429059772053\n",
      "  batch 10000 loss: 0.3764335421041469\n",
      "  batch 11000 loss: 0.3764016893412336\n",
      "  batch 12000 loss: 0.3829249073722167\n",
      "  batch 13000 loss: 0.34474376208829927\n",
      "  batch 14000 loss: 0.34290551422163845\n",
      "  batch 15000 loss: 0.3554888208225166\n",
      "LOSS train 0.3554888208225166 valid 0.3701637089252472\n",
      "EPOCH 3:\n",
      "  batch 1000 loss: 0.36240090577013323\n",
      "  batch 2000 loss: 0.32765287689716205\n",
      "  batch 3000 loss: 0.3374013190258411\n",
      "  batch 4000 loss: 0.32316771734094074\n",
      "  batch 5000 loss: 0.3256984728761163\n",
      "  batch 6000 loss: 0.3286433316886541\n",
      "  batch 7000 loss: 0.3358452120489674\n",
      "  batch 8000 loss: 0.30711711742581976\n",
      "  batch 9000 loss: 0.337847679366947\n",
      "  batch 10000 loss: 0.3400035525802232\n",
      "  batch 11000 loss: 0.326836488408866\n",
      "  batch 12000 loss: 0.3399696338063659\n",
      "  batch 13000 loss: 0.32376691688233405\n",
      "  batch 14000 loss: 0.3468957879869267\n",
      "  batch 15000 loss: 0.3070911312564276\n",
      "LOSS train 0.3070911312564276 valid 0.33004701137542725\n",
      "EPOCH 4:\n",
      "  batch 1000 loss: 0.30301203172958047\n",
      "  batch 2000 loss: 0.3001460323657884\n",
      "  batch 3000 loss: 0.30370640737965005\n",
      "  batch 4000 loss: 0.3162484225621156\n",
      "  batch 5000 loss: 0.31321828890329195\n",
      "  batch 6000 loss: 0.29574474748835566\n",
      "  batch 7000 loss: 0.30429268602139925\n",
      "  batch 8000 loss: 0.3214976699271356\n",
      "  batch 9000 loss: 0.29027836518040934\n",
      "  batch 10000 loss: 0.30546323553981347\n",
      "  batch 11000 loss: 0.3143375391889276\n",
      "  batch 12000 loss: 0.29374250165963167\n",
      "  batch 13000 loss: 0.3207077450143888\n",
      "  batch 14000 loss: 0.29920033607154617\n",
      "  batch 15000 loss: 0.27970753210071414\n",
      "LOSS train 0.27970753210071414 valid 0.3216651976108551\n",
      "EPOCH 5:\n",
      "  batch 1000 loss: 0.266611966239816\n",
      "  batch 2000 loss: 0.2742580146914879\n",
      "  batch 3000 loss: 0.272597378780978\n",
      "  batch 4000 loss: 0.28530536381562704\n",
      "  batch 5000 loss: 0.27484028003448113\n",
      "  batch 6000 loss: 0.2861918505212088\n",
      "  batch 7000 loss: 0.3079141149421776\n",
      "  batch 8000 loss: 0.31721137561203794\n",
      "  batch 9000 loss: 0.2882230232366637\n",
      "  batch 10000 loss: 0.2857425767425157\n",
      "  batch 11000 loss: 0.2762545836429126\n",
      "  batch 12000 loss: 0.30243181294560784\n",
      "  batch 13000 loss: 0.3046174954074304\n",
      "  batch 14000 loss: 0.26063948952493954\n",
      "  batch 15000 loss: 0.28722659371698867\n",
      "LOSS train 0.28722659371698867 valid 0.31586283445358276\n"
     ]
    }
   ],
   "source": [
    "# Initializing in a separate cell so we can easily add more epochs to the same run\n",
    "timestamp = datetime.now().strftime('%Y%m%d_%H%M%S')\n",
    "writer = SummaryWriter('runs/fashion_trainer_{}'.format(timestamp))\n",
    "epoch_number = 0\n",
    "\n",
    "EPOCHS = 5\n",
    "\n",
    "best_vloss = 1_000_000.\n",
    "\n",
    "for epoch in range(EPOCHS):\n",
    "    print('EPOCH {}:'.format(epoch_number + 1))\n",
    "\n",
    "    # Make sure gradient tracking is on, and do a pass over the data\n",
    "    model.train(True)\n",
    "    avg_loss = train_one_epoch(epoch_number, writer)\n",
    "\n",
    "\n",
    "    running_vloss = 0.0\n",
    "    # Set the model to evaluation mode, disabling dropout and using population\n",
    "    # statistics for batch normalization.\n",
    "    model.eval()\n",
    "\n",
    "    # Disable gradient computation and reduce memory consumption.\n",
    "    with torch.no_grad():\n",
    "        for i, vdata in enumerate(validation_loader):\n",
    "            vinputs, vlabels = vdata\n",
    "            voutputs = model(vinputs)\n",
    "            vloss = loss_fn(voutputs, vlabels)\n",
    "            running_vloss += vloss\n",
    "\n",
    "    avg_vloss = running_vloss / (i + 1)\n",
    "    print('LOSS train {} valid {}'.format(avg_loss, avg_vloss))\n",
    "\n",
    "    # Log the running loss averaged per batch\n",
    "    # for both training and validation\n",
    "    writer.add_scalars('Training vs. Validation Loss',\n",
    "                    { 'Training' : avg_loss, 'Validation' : avg_vloss },\n",
    "                    epoch_number + 1)\n",
    "    writer.flush()\n",
    "\n",
    "    # Track best performance, and save the model's state\n",
    "    if avg_vloss < best_vloss:\n",
    "        best_vloss = avg_vloss\n",
    "        model_path = 'model_{}_{}'.format(timestamp, epoch_number)\n",
    "        torch.save(model.state_dict(), model_path)\n",
    "\n",
    "    epoch_number += 1"
   ],
   "metadata": {
    "collapsed": false,
    "ExecuteTime": {
     "end_time": "2023-08-01T08:18:43.684676Z",
     "start_time": "2023-08-01T08:14:12.894576Z"
    }
   }
  }
 ],
 "metadata": {
  "kernelspec": {
   "display_name": "Python 3",
   "language": "python",
   "name": "python3"
  },
  "language_info": {
   "codemirror_mode": {
    "name": "ipython",
    "version": 2
   },
   "file_extension": ".py",
   "mimetype": "text/x-python",
   "name": "python",
   "nbconvert_exporter": "python",
   "pygments_lexer": "ipython2",
   "version": "2.7.6"
  }
 },
 "nbformat": 4,
 "nbformat_minor": 0
}
