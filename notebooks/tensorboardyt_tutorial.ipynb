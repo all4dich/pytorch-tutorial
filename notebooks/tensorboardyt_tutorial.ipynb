{
 "cells": [
  {
   "cell_type": "code",
   "metadata": {
    "collapsed": false,
    "ExecuteTime": {
     "end_time": "2025-03-26T12:08:03.208802Z",
     "start_time": "2025-03-26T12:08:03.054440Z"
    }
   },
   "source": [
    "# For tips on running notebooks in Google Colab, see\n",
    "# https://pytorch.org/tutorials/beginner/colab\n",
    "%matplotlib inline"
   ],
   "outputs": [],
   "execution_count": 1
  },
  {
   "cell_type": "markdown",
   "metadata": {},
   "source": [
    "[Introduction](introyt1_tutorial.html) \\|\\|\n",
    "[Tensors](tensors_deeper_tutorial.html) \\|\\|\n",
    "[Autograd](autogradyt_tutorial.html) \\|\\| [Building\n",
    "Models](modelsyt_tutorial.html) \\|\\| **TensorBoard Support** \\|\\|\n",
    "[Training Models](trainingyt.html) \\|\\| [Model\n",
    "Understanding](captumyt.html)\n",
    "\n",
    "PyTorch TensorBoard Support\n",
    "===========================\n",
    "\n",
    "Follow along with the video below or on\n",
    "[youtube](https://www.youtube.com/watch?v=6CEld3hZgqc).\n",
    "\n"
   ]
  },
  {
   "cell_type": "code",
   "metadata": {
    "ExecuteTime": {
     "end_time": "2025-03-26T12:08:07.010878Z",
     "start_time": "2025-03-26T12:08:07.007065Z"
    }
   },
   "source": [
    "# Run this cell to load the video\n",
    "from IPython.display import display, HTML\n",
    "html_code = \"\"\"\n",
    "<div style=\"margin-top:10px; margin-bottom:10px;\">\n",
    "  <iframe width=\"560\" height=\"315\" src=\"https://www.youtube.com/embed/6CEld3hZgqc\" frameborder=\"0\" allow=\"accelerometer; encrypted-media; gyroscope; picture-in-picture\" allowfullscreen></iframe>\n",
    "</div>\n",
    "\"\"\"\n",
    "display(HTML(html_code))"
   ],
   "outputs": [
    {
     "data": {
      "text/plain": [
       "<IPython.core.display.HTML object>"
      ],
      "text/html": [
       "\n",
       "<div style=\"margin-top:10px; margin-bottom:10px;\">\n",
       "  <iframe width=\"560\" height=\"315\" src=\"https://www.youtube.com/embed/6CEld3hZgqc\" frameborder=\"0\" allow=\"accelerometer; encrypted-media; gyroscope; picture-in-picture\" allowfullscreen></iframe>\n",
       "</div>\n"
      ]
     },
     "metadata": {},
     "output_type": "display_data"
    }
   ],
   "execution_count": 2
  },
  {
   "cell_type": "markdown",
   "metadata": {},
   "source": [
    "\n",
    "\n",
    "Before You Start\n",
    "----------------\n",
    "\n",
    "To run this tutorial, you'll need to install PyTorch, TorchVision,\n",
    "Matplotlib, and TensorBoard.\n",
    "\n",
    "With `conda`:\n",
    "\n",
    "``` {.sh}\n",
    "conda install pytorch torchvision -c pytorch\n",
    "conda install matplotlib tensorboard\n",
    "```\n",
    "\n",
    "With `pip`:\n",
    "\n",
    "``` {.sh}\n",
    "pip install torch torchvision matplotlib tensorboard\n",
    "```\n",
    "\n",
    "Once the dependencies are installed, restart this notebook in the Python\n",
    "environment where you installed them.\n",
    "\n",
    "Introduction\n",
    "------------\n",
    "\n",
    "In this notebook, we'll be training a variant of LeNet-5 against the\n",
    "Fashion-MNIST dataset. Fashion-MNIST is a set of image tiles depicting\n",
    "various garments, with ten class labels indicating the type of garment\n",
    "depicted.\n"
   ]
  },
  {
   "cell_type": "code",
   "metadata": {
    "collapsed": false,
    "ExecuteTime": {
     "end_time": "2025-03-26T12:43:56.847549Z",
     "start_time": "2025-03-26T12:43:56.844056Z"
    }
   },
   "source": [
    "# PyTorch model and training necessities\n",
    "import torch\n",
    "import torch.nn as nn\n",
    "import torch.nn.functional as F\n",
    "import torch.optim as optim\n",
    "\n",
    "# Image datasets and image manipulation\n",
    "import torchvision\n",
    "import torchvision.transforms as transforms\n",
    "\n",
    "# Image display\n",
    "import matplotlib.pyplot as plt\n",
    "import numpy as np\n",
    "\n",
    "# PyTorch TensorBoard support\n",
    "from torch.utils.tensorboard import SummaryWriter\n",
    "\n",
    "# In case you are using an environment that has TensorFlow installed,\n",
    "# such as Google Colab, uncomment the following code to avoid\n",
    "# a bug with saving embeddings to your TensorBoard directory\n",
    "\n",
    "# import tensorflow as tf\n",
    "# import tensorboard as tb\n",
    "# tf.io.gfile = tb.compat.tensorflow_stub.io.gfile"
   ],
   "outputs": [],
   "execution_count": 20
  },
  {
   "cell_type": "markdown",
   "metadata": {},
   "source": [
    "Showing Images in TensorBoard\n",
    "=============================\n",
    "\n",
    "Let's start by adding sample images from our dataset to TensorBoard:\n"
   ]
  },
  {
   "cell_type": "code",
   "metadata": {
    "collapsed": false,
    "ExecuteTime": {
     "end_time": "2025-03-26T12:44:06.425644Z",
     "start_time": "2025-03-26T12:44:01.847244Z"
    }
   },
   "source": [
    "# Gather datasets and prepare them for consumption\n",
    "transform = transforms.Compose(\n",
    "    [transforms.ToTensor(),\n",
    "    transforms.Normalize((0.5,), (0.5,))])\n",
    "\n",
    "# Store separate training and validations splits in ./data\n",
    "training_set = torchvision.datasets.FashionMNIST('./data',\n",
    "    download=True,\n",
    "    train=True,\n",
    "    transform=transform)\n",
    "validation_set = torchvision.datasets.FashionMNIST('./data',\n",
    "    download=True,\n",
    "    train=False,\n",
    "    transform=transform)\n",
    "\n",
    "training_loader = torch.utils.data.DataLoader(training_set,\n",
    "                                              batch_size=4,\n",
    "                                              shuffle=True,\n",
    "                                              num_workers=2)\n",
    "\n",
    "\n",
    "validation_loader = torch.utils.data.DataLoader(validation_set,\n",
    "                                                batch_size=4,\n",
    "                                                shuffle=False,\n",
    "                                                num_workers=2)\n",
    "\n",
    "# Class labels\n",
    "classes = ('T-shirt/top', 'Trouser', 'Pullover', 'Dress', 'Coat',\n",
    "        'Sandal', 'Shirt', 'Sneaker', 'Bag', 'Ankle Boot')\n",
    "\n",
    "# Helper function for inline image display\n",
    "def matplotlib_imshow(img, one_channel=False):\n",
    "    if one_channel:\n",
    "        img = img.mean(dim=0)\n",
    "    img = img / 2 + 0.5     # unnormalize\n",
    "    npimg = img.numpy()\n",
    "    if one_channel:\n",
    "        plt.imshow(npimg, cmap=\"Greys\")\n",
    "    else:\n",
    "        plt.imshow(np.transpose(npimg, (1, 2, 0)))\n",
    "\n",
    "# Extract a batch of 4 images\n",
    "dataiter = iter(training_loader)\n",
    "images, labels = next(dataiter)\n",
    "\n",
    "# Create a grid from the images and show them\n",
    "img_grid = torchvision.utils.make_grid(images)\n",
    "matplotlib_imshow(img_grid, one_channel=True)"
   ],
   "outputs": [
    {
     "data": {
      "text/plain": [
       "<Figure size 640x480 with 1 Axes>"
      ],
      "image/png": "[encoded data removed]"
     },
     "metadata": {},
     "output_type": "display_data"
    }
   ],
   "execution_count": 21
  },
  {
   "cell_type": "markdown",
   "metadata": {},
   "source": [
    "Above, we used TorchVision and Matplotlib to create a visual grid of a\n",
    "minibatch of our input data. Below, we use the `add_image()` call on\n",
    "`SummaryWriter` to log the image for consumption by TensorBoard, and we\n",
    "also call `flush()` to make sure it's written to disk right away.\n"
   ]
  },
  {
   "cell_type": "code",
   "metadata": {
    "collapsed": false,
    "ExecuteTime": {
     "end_time": "2025-03-26T12:44:12.807353Z",
     "start_time": "2025-03-26T12:44:12.801549Z"
    }
   },
   "source": [
    "# Default log_dir argument is \"runs\" - but it's good to be specific\n",
    "# torch.utils.tensorboard.SummaryWriter is imported above\n",
    "from datetime import datetime\n",
    "writer = SummaryWriter('runs/fashion_mnist_experiment_3')\n",
    "\n",
    "# Write image data to TensorBoard log dir\n",
    "writer.add_image('Four Fashion-MNIST Images', img_grid)\n",
    "writer.flush()\n",
    "\n",
    "# To view, start TensorBoard on the command line with:\n",
    "#   tensorboard --logdir=runs\n",
    "# ...and open a browser tab to http://localhost:6006/"
   ],
   "outputs": [],
   "execution_count": 22
  },
  {
   "cell_type": "markdown",
   "metadata": {},
   "source": [
    "If you start TensorBoard at the command line and open it in a new\n",
    "browser tab (usually at [localhost:6006](localhost:6006)), you should\n",
    "see the image grid under the IMAGES tab.\n",
    "\n",
    "Graphing Scalars to Visualize Training\n",
    "======================================\n",
    "\n",
    "TensorBoard is useful for tracking the progress and efficacy of your\n",
    "training. Below, we'll run a training loop, track some metrics, and save\n",
    "the data for TensorBoard's consumption.\n",
    "\n",
    "Let's define a model to categorize our image tiles, and an optimizer and\n",
    "loss function for training:\n"
   ]
  },
  {
   "cell_type": "code",
   "metadata": {
    "collapsed": false,
    "ExecuteTime": {
     "end_time": "2025-03-26T12:44:37.862709Z",
     "start_time": "2025-03-26T12:44:37.856352Z"
    }
   },
   "source": [
    "class Net(nn.Module):\n",
    "    def __init__(self):\n",
    "        super(Net, self).__init__()\n",
    "        self.conv1 = nn.Conv2d(1, 6, 5)\n",
    "        self.pool = nn.MaxPool2d(2, 2)\n",
    "        self.conv2 = nn.Conv2d(6, 16, 5)\n",
    "        self.fc1 = nn.Linear(16 * 4 * 4, 120)\n",
    "        self.fc2 = nn.Linear(120, 84)\n",
    "        self.fc3 = nn.Linear(84, 10)\n",
    "\n",
    "    def forward(self, x):\n",
    "        x = self.pool(F.relu(self.conv1(x)))\n",
    "        x = self.pool(F.relu(self.conv2(x)))\n",
    "        x = x.view(-1, 16 * 4 * 4)\n",
    "        x = F.relu(self.fc1(x))\n",
    "        x = F.relu(self.fc2(x))\n",
    "        x = self.fc3(x)\n",
    "        return x\n",
    "    \n",
    "\n",
    "net = Net()\n",
    "criterion = nn.CrossEntropyLoss()\n",
    "optimizer = optim.SGD(net.parameters(), lr=0.001, momentum=0.9)"
   ],
   "outputs": [],
   "execution_count": 23
  },
  {
   "cell_type": "markdown",
   "metadata": {},
   "source": [
    "Now let's train a single epoch, and evaluate the training vs. validation\n",
    "set losses every 1000 batches:\n"
   ]
  },
  {
   "cell_type": "code",
   "metadata": {
    "collapsed": false,
    "ExecuteTime": {
     "end_time": "2025-03-26T12:45:24.883168Z",
     "start_time": "2025-03-26T12:44:44.043993Z"
    }
   },
   "source": [
    "print(len(validation_loader))\n",
    "for epoch in range(1):  # loop over the dataset multiple times\n",
    "    running_loss = 0.0\n",
    "\n",
    "    for i, data in enumerate(training_loader, 0):\n",
    "        # basic training loop\n",
    "        inputs, labels = data\n",
    "        optimizer.zero_grad()\n",
    "        outputs = net(inputs)\n",
    "        loss = criterion(outputs, labels)\n",
    "        loss.backward()\n",
    "        optimizer.step()\n",
    "\n",
    "        running_loss += loss.item()\n",
    "        if i % 1000 == 999:    # Every 1000 mini-batches...\n",
    "            print('Batch {}'.format(i + 1))\n",
    "            # Check against the validation set\n",
    "            running_vloss = 0.0\n",
    "            \n",
    "            # In evaluation mode some model specific operations can be omitted eg. dropout layer\n",
    "            net.train(False) # Switching to evaluation mode, eg. turning off regularisation\n",
    "            for j, vdata in enumerate(validation_loader, 0):\n",
    "                vinputs, vlabels = vdata\n",
    "                voutputs = net(vinputs)\n",
    "                vloss = criterion(voutputs, vlabels)\n",
    "                running_vloss += vloss.item()\n",
    "            net.train(True) # Switching back to training mode, eg. turning on regularisation\n",
    "            \n",
    "            avg_loss = running_loss / 1000\n",
    "            avg_vloss = running_vloss / len(validation_loader)\n",
    "            \n",
    "            # Log the running loss averaged per batch\n",
    "            writer.add_scalars('Training vs. Validation Loss',\n",
    "                            { 'Training' : avg_loss, 'Validation' : avg_vloss },\n",
    "                            epoch * len(training_loader) + i)\n",
    "\n",
    "            running_loss = 0.0\n",
    "print('Finished Training')\n",
    "\n",
    "writer.flush()"
   ],
   "outputs": [
    {
     "name": "stdout",
     "output_type": "stream",
     "text": [
      "2500\n",
      "Batch 1000\n",
      "Batch 2000\n",
      "Batch 3000\n",
      "Batch 4000\n",
      "Batch 5000\n",
      "Batch 6000\n",
      "Batch 7000\n",
      "Batch 8000\n",
      "Batch 9000\n",
      "Batch 10000\n",
      "Batch 11000\n",
      "Batch 12000\n",
      "Batch 13000\n",
      "Batch 14000\n",
      "Batch 15000\n",
      "Finished Training\n"
     ]
    }
   ],
   "execution_count": 24
  },
  {
   "cell_type": "markdown",
   "metadata": {},
   "source": [
    "Switch to your open TensorBoard and have a look at the SCALARS tab.\n",
    "\n",
    "Visualizing Your Model\n",
    "======================\n",
    "\n",
    "TensorBoard can also be used to examine the data flow within your model.\n",
    "To do this, call the `add_graph()` method with a model and sample input:\n"
   ]
  },
  {
   "cell_type": "code",
   "metadata": {
    "collapsed": false,
    "ExecuteTime": {
     "end_time": "2025-03-26T12:56:44.320123Z",
     "start_time": "2025-03-26T12:56:43.335146Z"
    }
   },
   "source": [
    "# Again, grab a single mini-batch of images\n",
    "dataiter = iter(training_loader)\n",
    "images, labels = next(dataiter)\n",
    "\n",
    "# add_graph() will trace the sample input through your model,\n",
    "# and render it as a graph.\n",
    "writer.add_graph(net, images)\n",
    "writer.flush()"
   ],
   "outputs": [],
   "execution_count": 26
  },
  {
   "cell_type": "markdown",
   "metadata": {},
   "source": [
    "When you switch over to TensorBoard, you should see a GRAPHS tab.\n",
    "Double-click the \"NET\" node to see the layers and data flow within your\n",
    "model.\n",
    "\n",
    "Visualizing Your Dataset with Embeddings\n",
    "========================================\n",
    "\n",
    "The 28-by-28 image tiles we're using can be modeled as 784-dimensional\n",
    "vectors (28 \\* 28 = 784). It can be instructive to project this to a\n",
    "lower-dimensional representation. The `add_embedding()` method will\n",
    "project a set of data onto the three dimensions with highest variance,\n",
    "and display them as an interactive 3D chart. The `add_embedding()`\n",
    "method does this automatically by projecting to the three dimensions\n",
    "with highest variance.\n",
    "\n",
    "Below, we'll take a sample of our data, and generate such an embedding:\n"
   ]
  },
  {
   "cell_type": "code",
   "metadata": {
    "collapsed": false,
    "ExecuteTime": {
     "end_time": "2025-03-26T13:02:54.656236Z",
     "start_time": "2025-03-26T13:02:54.608760Z"
    }
   },
   "source": [
    "# Select a random subset of data and corresponding labels\n",
    "def select_n_random(data, labels, n=100):\n",
    "    assert len(data) == len(labels)\n",
    "\n",
    "    perm = torch.randperm(len(data))\n",
    "    return data[perm][:n], labels[perm][:n]\n",
    "\n",
    "# Extract a random subset of data\n",
    "images, labels = select_n_random(training_set.data, training_set.targets)\n",
    "\n",
    "# get the class labels for each image\n",
    "class_labels = [classes[label] for label in labels]\n",
    "\n",
    "# log embeddings\n",
    "features = images.view(-1, 28 * 28)\n",
    "writer.add_embedding(features,\n",
    "                    metadata=class_labels,\n",
    "                    label_img=images.unsqueeze(1))\n",
    "writer.flush()\n",
    "writer.close()"
   ],
   "outputs": [
    {
     "name": "stdout",
     "output_type": "stream",
     "text": [
      "warning: Embedding dir exists, did you set global_step for add_embedding()?\n"
     ]
    }
   ],
   "execution_count": 28
  },
  {
   "cell_type": "markdown",
   "metadata": {},
   "source": [
    "Now if you switch to TensorBoard and select the PROJECTOR tab, you\n",
    "should see a 3D representation of the projection. You can rotate and\n",
    "zoom the model. Examine it at large and small scales, and see whether\n",
    "you can spot patterns in the projected data and the clustering of\n",
    "labels.\n",
    "\n",
    "For better visibility, it's recommended to:\n",
    "\n",
    "-   Select \"label\" from the \"Color by\" drop-down on the left.\n",
    "-   Toggle the Night Mode icon along the top to place the light-colored\n",
    "    images on a dark background.\n",
    "\n",
    "Other Resources\n",
    "===============\n",
    "\n",
    "For more information, have a look at:\n",
    "\n",
    "-   PyTorch documentation on\n",
    "    [torch.utils.tensorboard.SummaryWriter](https://pytorch.org/docs/stable/tensorboard.html?highlight=summarywriter)\n",
    "-   Tensorboard tutorial content in the [PyTorch.org\n",
    "    Tutorials](https://pytorch.org/tutorials/)\n",
    "-   For more information about TensorBoard, see the [TensorBoard\n",
    "    documentation](https://www.tensorflow.org/tensorboard)\n"
   ]
  }
 ],
 "metadata": {
  "kernelspec": {
   "display_name": "Python 3",
   "language": "python",
   "name": "python3"
  },
  "language_info": {
   "codemirror_mode": {
    "name": "ipython",
    "version": 3
   },
   "file_extension": ".py",
   "mimetype": "text/x-python",
   "name": "python",
   "nbconvert_exporter": "python",
   "pygments_lexer": "ipython3",
   "version": "3.10.12"
  }
 },
 "nbformat": 4,
 "nbformat_minor": 0
}
